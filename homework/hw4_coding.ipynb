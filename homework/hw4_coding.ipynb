{
 "cells": [
  {
   "cell_type": "markdown",
   "metadata": {},
   "source": [
    "# Computational Homework #4\n",
    "\n",
    "**Due by midnight on Friday February 14, 2020. Submit on Canvas**. Answer all of the following problems. These problems should be completed in this notebook (using the R kernel). Computational questions may require code, plots, analysis, interpretation, etc. Working in small groups is allowed, but it is important that you make an effort to master the material and hand in your own work. \n",
    "\n"
   ]
  },
  {
   "cell_type": "markdown",
   "metadata": {},
   "source": [
    "### Problem #1\n",
    "\n",
    "#### Run a simulation to build evidence for or against the following claim: The simple linear regression line fitted to the points in the scatter plot of $Y$ versus $\\widehat{Y}$ has zero intercept and a unit slope.\n",
    "\n",
    "To do this, simulate some data with a known slope and intercept parameters, then fit an SLR model to the data, and plot the response vs the fitted values."
   ]
  },
  {
   "cell_type": "code",
   "execution_count": null,
   "metadata": {
    "collapsed": true
   },
   "outputs": [],
   "source": []
  },
  {
   "cell_type": "markdown",
   "metadata": {},
   "source": [
    "### Problem #2\n",
    "\n",
    "This [link](https://www.colorado.edu/amath/sites/default/files/attached-files/advertising.txt) contains advertising data. This dataset contains, in thousands of dollars, TV, Radio, and Newspaper budgets for 200 different markets along with the Sales, in thousands of units, for each market.\n",
    "\n",
    "#### (a) Load the dataset using the link above, and explore it graphically and numerically. Are there relationships between variables?"
   ]
  },
  {
   "cell_type": "code",
   "execution_count": null,
   "metadata": {},
   "outputs": [],
   "source": []
  },
  {
   "cell_type": "markdown",
   "metadata": {},
   "source": [
    "#### (b) Randomly split the dataset into two parts: a training set (80% of the data) and a testing set (20% of the data). "
   ]
  },
  {
   "cell_type": "code",
   "execution_count": null,
   "metadata": {},
   "outputs": [],
   "source": []
  },
  {
   "cell_type": "markdown",
   "metadata": {},
   "source": [
    "#### (c) Conduct simple linear regression, using the lm() function and your training set, with sales as the response, and radio as the predictor. Print a summary and interpret the estimated coefficients. Write out the estimated regression equation."
   ]
  },
  {
   "cell_type": "code",
   "execution_count": null,
   "metadata": {},
   "outputs": [],
   "source": []
  },
  {
   "cell_type": "markdown",
   "metadata": {},
   "source": []
  },
  {
   "cell_type": "markdown",
   "metadata": {},
   "source": [
    "#### (c) Plot the data and overlay the least squares regression line. Report and interpret the coefficient of determination."
   ]
  },
  {
   "cell_type": "code",
   "execution_count": null,
   "metadata": {
    "collapsed": true
   },
   "outputs": [],
   "source": []
  },
  {
   "cell_type": "markdown",
   "metadata": {},
   "source": [
    "#### (d) Plot the residuals (y) against the fitted values (x). Does the variability in the residuals look constant as the fitted values increase? Interpret why that might be important. Also, produce a normal QQ-plot of the residuals. If the points of the QQ-plot roughly follow the line $y = x$, then we don't have evidence against normality of the residuals. How does the QQ-plot look for these residuals?"
   ]
  },
  {
   "cell_type": "code",
   "execution_count": null,
   "metadata": {},
   "outputs": [],
   "source": []
  },
  {
   "cell_type": "markdown",
   "metadata": {},
   "source": [
    "#### (e) We learned that, often, the goal of regression is to make predictions on new data. Let's see how well the model does at predicting values that we left out of the training set.\n",
    "\n",
    "#### We can get a sense of how well the model does at predicting by computing the prediction mean squared error (MSE):\n",
    "\n",
    "$$ MSE = \\frac{1}{n}\\sum^n_{i=1}\\bigg(y_i - \\widehat{y}_i \\bigg)^2.$$\n",
    "\n",
    "####  Compute the MSE for the data in the training set, and for data in the testing set. Which one is lower? Explain why you think it's lower."
   ]
  },
  {
   "cell_type": "code",
   "execution_count": null,
   "metadata": {},
   "outputs": [],
   "source": []
  },
  {
   "cell_type": "markdown",
   "metadata": {},
   "source": [
    "### Problem #3\n",
    "\n",
    "Now let's perform multiple linear regression using the dataset from the previous problem.\n",
    "\n",
    "\n",
    "#### (a) Perform MLR, using your training set, using sales as the response and all other variables as predictors."
   ]
  },
  {
   "cell_type": "code",
   "execution_count": null,
   "metadata": {},
   "outputs": [],
   "source": []
  },
  {
   "cell_type": "markdown",
   "metadata": {},
   "source": [
    "#### (b) Interpret the estimated coefficient associated with TV. Interpret the coefficient of determination."
   ]
  },
  {
   "cell_type": "markdown",
   "metadata": {},
   "source": []
  },
  {
   "cell_type": "markdown",
   "metadata": {},
   "source": [
    "#### (c) Plot the residuals (y) against the fitted values (x). Do you notice any curvature in the residual plot? Also, produce a normal QQ-plot of the residuals. Do you have any worries about the normality of the residuals?"
   ]
  },
  {
   "cell_type": "code",
   "execution_count": null,
   "metadata": {},
   "outputs": [],
   "source": []
  },
  {
   "cell_type": "markdown",
   "metadata": {},
   "source": [
    "#### (c) Compute the MSE for the data in the training set, and for data in the testing set. Which one is lower? Explain why you think it's lower."
   ]
  },
  {
   "cell_type": "code",
   "execution_count": null,
   "metadata": {},
   "outputs": [],
   "source": []
  }
 ],
 "metadata": {
  "kernelspec": {
   "display_name": "Python 3",
   "language": "python",
   "name": "python3"
  },
  "language_info": {
   "codemirror_mode": {
    "name": "ipython",
    "version": 3
   },
   "file_extension": ".py",
   "mimetype": "text/x-python",
   "name": "python",
   "nbconvert_exporter": "python",
   "pygments_lexer": "ipython3",
   "version": "3.7.4"
  }
 },
 "nbformat": 4,
 "nbformat_minor": 2
}
